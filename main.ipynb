{
 "cells": [
  {
   "attachments": {},
   "cell_type": "markdown",
   "id": "36213e97",
   "metadata": {},
   "source": [
    "## 42577 Introduction to Business Analytics\n",
    "\n",
    "# **Project: Mobility with Citi Bike**"
   ]
  },
  {
   "cell_type": "markdown",
   "id": "8cfb6c5b",
   "metadata": {
    "toc": true
   },
   "source": [
    "<h1>Table of Contents<span class=\"tocSkip\"></span></h1>\n",
    "<div class=\"toc\"><ul class=\"toc-item\"><li><span><a href=\"#Necessary-Liabraries-and-Tools\" data-toc-modified-id=\"Necessary-Liabraries-and-Tools-1\"><span class=\"toc-item-num\">1&nbsp;&nbsp;</span>Necessary Liabraries and Tools</a></span></li><li><span><a href=\"#Data-Loader\" data-toc-modified-id=\"Data-Loader-2\"><span class=\"toc-item-num\">2&nbsp;&nbsp;</span>Data Loader</a></span><ul class=\"toc-item\"><li><span><a href=\"#data-description\" data-toc-modified-id=\"data-description-2.1\"><span class=\"toc-item-num\">2.1&nbsp;&nbsp;</span>data description</a></span></li><li><span><a href=\"#Data-prep\" data-toc-modified-id=\"Data-prep-2.2\"><span class=\"toc-item-num\">2.2&nbsp;&nbsp;</span>Data prep</a></span></li></ul></li><li><span><a href=\"#Data-visualization\" data-toc-modified-id=\"Data-visualization-3\"><span class=\"toc-item-num\">3&nbsp;&nbsp;</span>Data visualization</a></span><ul class=\"toc-item\"><li><ul class=\"toc-item\"><li><span><a href=\"#Gender\" data-toc-modified-id=\"Gender-3.0.1\"><span class=\"toc-item-num\">3.0.1&nbsp;&nbsp;</span>Gender</a></span></li><li><span><a href=\"#usertype\" data-toc-modified-id=\"usertype-3.0.2\"><span class=\"toc-item-num\">3.0.2&nbsp;&nbsp;</span>usertype</a></span></li><li><span><a href=\"#bike-id\" data-toc-modified-id=\"bike-id-3.0.3\"><span class=\"toc-item-num\">3.0.3&nbsp;&nbsp;</span>bike id</a></span></li><li><span><a href=\"#birth_year\" data-toc-modified-id=\"birth_year-3.0.4\"><span class=\"toc-item-num\">3.0.4&nbsp;&nbsp;</span>birth_year</a></span></li></ul></li></ul></li><li><span><a href=\"#Data-analysis\" data-toc-modified-id=\"Data-analysis-4\"><span class=\"toc-item-num\">4&nbsp;&nbsp;</span>Data analysis</a></span><ul class=\"toc-item\"><li><span><a href=\"#group-by-starttime\" data-toc-modified-id=\"group-by-starttime-4.1\"><span class=\"toc-item-num\">4.1&nbsp;&nbsp;</span>group by starttime</a></span></li></ul></li><li><span><a href=\"#Prediction-Challenge\" data-toc-modified-id=\"Prediction-Challenge-5\"><span class=\"toc-item-num\">5&nbsp;&nbsp;</span>Prediction Challenge</a></span></li><li><span><a href=\"#Exploratory-Component\" data-toc-modified-id=\"Exploratory-Component-6\"><span class=\"toc-item-num\">6&nbsp;&nbsp;</span>Exploratory Component</a></span></li><li><span><a href=\"#Conclusions\" data-toc-modified-id=\"Conclusions-7\"><span class=\"toc-item-num\">7&nbsp;&nbsp;</span>Conclusions</a></span></li></ul></div>"
   ]
  },
  {
   "cell_type": "markdown",
   "id": "63cf57ff",
   "metadata": {},
   "source": [
    "# Necessary Liabraries and Tools"
   ]
  },
  {
   "cell_type": "code",
   "execution_count": 19,
   "id": "b90a53f5",
   "metadata": {},
   "outputs": [],
   "source": [
    "import pandas as pd\n",
    "import numpy as np\n",
    "from DataLoader import DataLoader\n",
    "\n",
    "'''import more stuff here'''\n",
    "\n",
    "\n",
    "%matplotlib inline\n",
    "import matplotlib.pyplot as plt\n",
    "\n",
    "#matplotlib style options\n",
    "plt.style.use('ggplot')\n",
    "plt.rcParams['figure.figsize'] = (15, 8)\n",
    "\n",
    "plt.style.use('ggplot')\n",
    "plt.rcParams['figure.figsize'] = (15, 8)"
   ]
  },
  {
   "cell_type": "raw",
   "id": "9d21aea4",
   "metadata": {},
   "source": [
    "To Do: \n",
    "\n",
    "- maybe add the exercises to a folder in git for faster/easier access \n",
    "\n",
    "- continue working on Data prep and Data Visualization:\n",
    "    - Go through the exercises related to time series and apply similar "
   ]
  },
  {
   "cell_type": "markdown",
   "id": "310c8780",
   "metadata": {},
   "source": [
    "# Data Loader"
   ]
  },
  {
   "attachments": {},
   "cell_type": "markdown",
   "id": "135a13e5",
   "metadata": {},
   "source": [
    "Read the dataset from the CSV file"
   ]
  },
  {
   "cell_type": "code",
   "execution_count": 41,
   "id": "29320428",
   "metadata": {
    "scrolled": false
   },
   "outputs": [
    {
     "data": {
      "text/html": [
       "<div>\n",
       "<style scoped>\n",
       "    .dataframe tbody tr th:only-of-type {\n",
       "        vertical-align: middle;\n",
       "    }\n",
       "\n",
       "    .dataframe tbody tr th {\n",
       "        vertical-align: top;\n",
       "    }\n",
       "\n",
       "    .dataframe thead th {\n",
       "        text-align: right;\n",
       "    }\n",
       "</style>\n",
       "<table border=\"1\" class=\"dataframe\">\n",
       "  <thead>\n",
       "    <tr style=\"text-align: right;\">\n",
       "      <th></th>\n",
       "      <th>0</th>\n",
       "      <th>1</th>\n",
       "      <th>2</th>\n",
       "      <th>3</th>\n",
       "      <th>4</th>\n",
       "      <th>5</th>\n",
       "      <th>6</th>\n",
       "      <th>7</th>\n",
       "    </tr>\n",
       "  </thead>\n",
       "  <tbody>\n",
       "    <tr>\n",
       "      <th>Unnamed: 0</th>\n",
       "      <td>0</td>\n",
       "      <td>1</td>\n",
       "      <td>2</td>\n",
       "      <td>3</td>\n",
       "      <td>4</td>\n",
       "      <td>5</td>\n",
       "      <td>6</td>\n",
       "      <td>7</td>\n",
       "    </tr>\n",
       "    <tr>\n",
       "      <th>tripduration</th>\n",
       "      <td>970</td>\n",
       "      <td>723</td>\n",
       "      <td>496</td>\n",
       "      <td>306</td>\n",
       "      <td>306</td>\n",
       "      <td>1602</td>\n",
       "      <td>722</td>\n",
       "      <td>434</td>\n",
       "    </tr>\n",
       "    <tr>\n",
       "      <th>starttime</th>\n",
       "      <td>2018-01-01 13:50:57.4340</td>\n",
       "      <td>2018-01-01 15:33:30.1820</td>\n",
       "      <td>2018-01-01 15:39:18.3370</td>\n",
       "      <td>2018-01-01 15:40:13.3720</td>\n",
       "      <td>2018-01-01 18:14:51.5680</td>\n",
       "      <td>2018-01-01 21:31:54.1920</td>\n",
       "      <td>2018-01-02 07:54:53.6460</td>\n",
       "      <td>2018-01-02 08:06:14.3310</td>\n",
       "    </tr>\n",
       "    <tr>\n",
       "      <th>stoptime</th>\n",
       "      <td>2018-01-01 14:07:08.1860</td>\n",
       "      <td>2018-01-01 15:45:33.3410</td>\n",
       "      <td>2018-01-01 15:47:35.1720</td>\n",
       "      <td>2018-01-01 15:45:20.1910</td>\n",
       "      <td>2018-01-01 18:19:57.6420</td>\n",
       "      <td>2018-01-01 21:58:36.3530</td>\n",
       "      <td>2018-01-02 08:06:55.8720</td>\n",
       "      <td>2018-01-02 08:13:28.7670</td>\n",
       "    </tr>\n",
       "    <tr>\n",
       "      <th>start_station_id</th>\n",
       "      <td>72.0</td>\n",
       "      <td>72.0</td>\n",
       "      <td>72.0</td>\n",
       "      <td>72.0</td>\n",
       "      <td>72.0</td>\n",
       "      <td>72.0</td>\n",
       "      <td>72.0</td>\n",
       "      <td>72.0</td>\n",
       "    </tr>\n",
       "    <tr>\n",
       "      <th>start_station_latitude</th>\n",
       "      <td>40.767272</td>\n",
       "      <td>40.767272</td>\n",
       "      <td>40.767272</td>\n",
       "      <td>40.767272</td>\n",
       "      <td>40.767272</td>\n",
       "      <td>40.767272</td>\n",
       "      <td>40.767272</td>\n",
       "      <td>40.767272</td>\n",
       "    </tr>\n",
       "    <tr>\n",
       "      <th>start_station_longitude</th>\n",
       "      <td>-73.993929</td>\n",
       "      <td>-73.993929</td>\n",
       "      <td>-73.993929</td>\n",
       "      <td>-73.993929</td>\n",
       "      <td>-73.993929</td>\n",
       "      <td>-73.993929</td>\n",
       "      <td>-73.993929</td>\n",
       "      <td>-73.993929</td>\n",
       "    </tr>\n",
       "    <tr>\n",
       "      <th>end_station_id</th>\n",
       "      <td>505.0</td>\n",
       "      <td>3255.0</td>\n",
       "      <td>525.0</td>\n",
       "      <td>447.0</td>\n",
       "      <td>3356.0</td>\n",
       "      <td>482.0</td>\n",
       "      <td>228.0</td>\n",
       "      <td>173.0</td>\n",
       "    </tr>\n",
       "    <tr>\n",
       "      <th>end_station_latitude</th>\n",
       "      <td>40.749013</td>\n",
       "      <td>40.750585</td>\n",
       "      <td>40.755942</td>\n",
       "      <td>40.763707</td>\n",
       "      <td>40.774667</td>\n",
       "      <td>40.739355</td>\n",
       "      <td>40.754601</td>\n",
       "      <td>40.760683</td>\n",
       "    </tr>\n",
       "    <tr>\n",
       "      <th>end_station_longitude</th>\n",
       "      <td>-73.988484</td>\n",
       "      <td>-73.994685</td>\n",
       "      <td>-74.002116</td>\n",
       "      <td>-73.985162</td>\n",
       "      <td>-73.984706</td>\n",
       "      <td>-73.999318</td>\n",
       "      <td>-73.971879</td>\n",
       "      <td>-73.984527</td>\n",
       "    </tr>\n",
       "    <tr>\n",
       "      <th>bikeid</th>\n",
       "      <td>31956</td>\n",
       "      <td>32536</td>\n",
       "      <td>16069</td>\n",
       "      <td>31781</td>\n",
       "      <td>30319</td>\n",
       "      <td>30106</td>\n",
       "      <td>32059</td>\n",
       "      <td>30525</td>\n",
       "    </tr>\n",
       "    <tr>\n",
       "      <th>usertype</th>\n",
       "      <td>Subscriber</td>\n",
       "      <td>Subscriber</td>\n",
       "      <td>Subscriber</td>\n",
       "      <td>Subscriber</td>\n",
       "      <td>Subscriber</td>\n",
       "      <td>Subscriber</td>\n",
       "      <td>Subscriber</td>\n",
       "      <td>Subscriber</td>\n",
       "    </tr>\n",
       "    <tr>\n",
       "      <th>birth_year</th>\n",
       "      <td>1992</td>\n",
       "      <td>1969</td>\n",
       "      <td>1956</td>\n",
       "      <td>1974</td>\n",
       "      <td>1992</td>\n",
       "      <td>1968</td>\n",
       "      <td>1978</td>\n",
       "      <td>1983</td>\n",
       "    </tr>\n",
       "    <tr>\n",
       "      <th>gender</th>\n",
       "      <td>1</td>\n",
       "      <td>1</td>\n",
       "      <td>1</td>\n",
       "      <td>1</td>\n",
       "      <td>1</td>\n",
       "      <td>1</td>\n",
       "      <td>1</td>\n",
       "      <td>1</td>\n",
       "    </tr>\n",
       "  </tbody>\n",
       "</table>\n",
       "</div>"
      ],
      "text/plain": [
       "                                                0                         1  \\\n",
       "Unnamed: 0                                      0                         1   \n",
       "tripduration                                  970                       723   \n",
       "starttime                2018-01-01 13:50:57.4340  2018-01-01 15:33:30.1820   \n",
       "stoptime                 2018-01-01 14:07:08.1860  2018-01-01 15:45:33.3410   \n",
       "start_station_id                             72.0                      72.0   \n",
       "start_station_latitude                  40.767272                 40.767272   \n",
       "start_station_longitude                -73.993929                -73.993929   \n",
       "end_station_id                              505.0                    3255.0   \n",
       "end_station_latitude                    40.749013                 40.750585   \n",
       "end_station_longitude                  -73.988484                -73.994685   \n",
       "bikeid                                      31956                     32536   \n",
       "usertype                               Subscriber                Subscriber   \n",
       "birth_year                                   1992                      1969   \n",
       "gender                                          1                         1   \n",
       "\n",
       "                                                2                         3  \\\n",
       "Unnamed: 0                                      2                         3   \n",
       "tripduration                                  496                       306   \n",
       "starttime                2018-01-01 15:39:18.3370  2018-01-01 15:40:13.3720   \n",
       "stoptime                 2018-01-01 15:47:35.1720  2018-01-01 15:45:20.1910   \n",
       "start_station_id                             72.0                      72.0   \n",
       "start_station_latitude                  40.767272                 40.767272   \n",
       "start_station_longitude                -73.993929                -73.993929   \n",
       "end_station_id                              525.0                     447.0   \n",
       "end_station_latitude                    40.755942                 40.763707   \n",
       "end_station_longitude                  -74.002116                -73.985162   \n",
       "bikeid                                      16069                     31781   \n",
       "usertype                               Subscriber                Subscriber   \n",
       "birth_year                                   1956                      1974   \n",
       "gender                                          1                         1   \n",
       "\n",
       "                                                4                         5  \\\n",
       "Unnamed: 0                                      4                         5   \n",
       "tripduration                                  306                      1602   \n",
       "starttime                2018-01-01 18:14:51.5680  2018-01-01 21:31:54.1920   \n",
       "stoptime                 2018-01-01 18:19:57.6420  2018-01-01 21:58:36.3530   \n",
       "start_station_id                             72.0                      72.0   \n",
       "start_station_latitude                  40.767272                 40.767272   \n",
       "start_station_longitude                -73.993929                -73.993929   \n",
       "end_station_id                             3356.0                     482.0   \n",
       "end_station_latitude                    40.774667                 40.739355   \n",
       "end_station_longitude                  -73.984706                -73.999318   \n",
       "bikeid                                      30319                     30106   \n",
       "usertype                               Subscriber                Subscriber   \n",
       "birth_year                                   1992                      1968   \n",
       "gender                                          1                         1   \n",
       "\n",
       "                                                6                         7  \n",
       "Unnamed: 0                                      6                         7  \n",
       "tripduration                                  722                       434  \n",
       "starttime                2018-01-02 07:54:53.6460  2018-01-02 08:06:14.3310  \n",
       "stoptime                 2018-01-02 08:06:55.8720  2018-01-02 08:13:28.7670  \n",
       "start_station_id                             72.0                      72.0  \n",
       "start_station_latitude                  40.767272                 40.767272  \n",
       "start_station_longitude                -73.993929                -73.993929  \n",
       "end_station_id                              228.0                     173.0  \n",
       "end_station_latitude                    40.754601                 40.760683  \n",
       "end_station_longitude                  -73.971879                -73.984527  \n",
       "bikeid                                      32059                     30525  \n",
       "usertype                               Subscriber                Subscriber  \n",
       "birth_year                                   1978                      1983  \n",
       "gender                                          1                         1  "
      ]
     },
     "execution_count": 41,
     "metadata": {},
     "output_type": "execute_result"
    }
   ],
   "source": [
    "# read the existing subset of the data\n",
    "df = DataLoader.read_data('Trips_subset.csv')\n",
    "# Display few variables\n",
    "df.head(8).T "
   ]
  },
  {
   "cell_type": "markdown",
   "id": "4894c78a",
   "metadata": {},
   "source": [
    "## data description "
   ]
  },
  {
   "cell_type": "markdown",
   "id": "20d8584a",
   "metadata": {},
   "source": [
    "gaining insights into the structure and characteristics of the data"
   ]
  },
  {
   "cell_type": "code",
   "execution_count": 38,
   "id": "6a22d3c4",
   "metadata": {},
   "outputs": [
    {
     "name": "stdout",
     "output_type": "stream",
     "text": [
      "the number of the rows = 140000 \n",
      "\n",
      "dataframe information\n",
      "<class 'pandas.core.frame.DataFrame'>\n",
      "RangeIndex: 140000 entries, 0 to 139999\n",
      "Data columns (total 14 columns):\n",
      " #   Column                   Non-Null Count   Dtype  \n",
      "---  ------                   --------------   -----  \n",
      " 0   Unnamed: 0               140000 non-null  int64  \n",
      " 1   tripduration             140000 non-null  int64  \n",
      " 2   starttime                140000 non-null  object \n",
      " 3   stoptime                 140000 non-null  object \n",
      " 4   start_station_id         140000 non-null  float64\n",
      " 5   start_station_latitude   140000 non-null  float64\n",
      " 6   start_station_longitude  140000 non-null  float64\n",
      " 7   end_station_id           140000 non-null  float64\n",
      " 8   end_station_latitude     140000 non-null  float64\n",
      " 9   end_station_longitude    140000 non-null  float64\n",
      " 10  bikeid                   140000 non-null  int64  \n",
      " 11  usertype                 140000 non-null  object \n",
      " 12  birth_year               140000 non-null  int64  \n",
      " 13  gender                   140000 non-null  int64  \n",
      "dtypes: float64(6), int64(5), object(3)\n",
      "memory usage: 15.0+ MB\n"
     ]
    }
   ],
   "source": [
    "print(f\"the number of the rows = {len(df)} \\n\")\n",
    "print(\"dataframe information\")\n",
    "df.info()"
   ]
  },
  {
   "cell_type": "code",
   "execution_count": 40,
   "id": "864fbb88",
   "metadata": {},
   "outputs": [
    {
     "data": {
      "text/plain": [
       "Unnamed: 0                 False\n",
       "tripduration               False\n",
       "starttime                  False\n",
       "stoptime                   False\n",
       "start_station_id           False\n",
       "start_station_latitude     False\n",
       "start_station_longitude    False\n",
       "end_station_id             False\n",
       "end_station_latitude       False\n",
       "end_station_longitude      False\n",
       "bikeid                     False\n",
       "usertype                   False\n",
       "birth_year                 False\n",
       "gender                     False\n",
       "dtype: bool"
      ]
     },
     "execution_count": 40,
     "metadata": {},
     "output_type": "execute_result"
    }
   ],
   "source": [
    "# Observe wether null values are present\n",
    "df.isnull().any()"
   ]
  },
  {
   "attachments": {},
   "cell_type": "markdown",
   "id": "e243d9c7",
   "metadata": {},
   "source": [
    "True indicates a null value and False indicates there is no null value. We can observe that there are no columns containing null values."
   ]
  },
  {
   "cell_type": "code",
   "execution_count": 22,
   "id": "29461a97",
   "metadata": {
    "scrolled": false
   },
   "outputs": [
    {
     "name": "stdout",
     "output_type": "stream",
     "text": [
      "data summary statistics = \n",
      "\n"
     ]
    },
    {
     "data": {
      "text/html": [
       "<div>\n",
       "<style scoped>\n",
       "    .dataframe tbody tr th:only-of-type {\n",
       "        vertical-align: middle;\n",
       "    }\n",
       "\n",
       "    .dataframe tbody tr th {\n",
       "        vertical-align: top;\n",
       "    }\n",
       "\n",
       "    .dataframe thead th {\n",
       "        text-align: right;\n",
       "    }\n",
       "</style>\n",
       "<table border=\"1\" class=\"dataframe\">\n",
       "  <thead>\n",
       "    <tr style=\"text-align: right;\">\n",
       "      <th></th>\n",
       "      <th>Unnamed: 0</th>\n",
       "      <th>tripduration</th>\n",
       "      <th>start_station_id</th>\n",
       "      <th>start_station_latitude</th>\n",
       "      <th>start_station_longitude</th>\n",
       "      <th>end_station_id</th>\n",
       "      <th>end_station_latitude</th>\n",
       "      <th>end_station_longitude</th>\n",
       "      <th>bikeid</th>\n",
       "      <th>birth_year</th>\n",
       "      <th>gender</th>\n",
       "    </tr>\n",
       "  </thead>\n",
       "  <tbody>\n",
       "    <tr>\n",
       "      <th>count</th>\n",
       "      <td>140000.000000</td>\n",
       "      <td>1.400000e+05</td>\n",
       "      <td>140000.000000</td>\n",
       "      <td>140000.000000</td>\n",
       "      <td>140000.000000</td>\n",
       "      <td>140000.000000</td>\n",
       "      <td>140000.000000</td>\n",
       "      <td>140000.000000</td>\n",
       "      <td>140000.000000</td>\n",
       "      <td>140000.000000</td>\n",
       "      <td>140000.000000</td>\n",
       "    </tr>\n",
       "    <tr>\n",
       "      <th>mean</th>\n",
       "      <td>69999.500000</td>\n",
       "      <td>7.593562e+02</td>\n",
       "      <td>253.587986</td>\n",
       "      <td>40.723887</td>\n",
       "      <td>-73.992639</td>\n",
       "      <td>981.329214</td>\n",
       "      <td>40.726562</td>\n",
       "      <td>-73.990720</td>\n",
       "      <td>26172.761371</td>\n",
       "      <td>1978.045979</td>\n",
       "      <td>1.183164</td>\n",
       "    </tr>\n",
       "    <tr>\n",
       "      <th>std</th>\n",
       "      <td>40414.663181</td>\n",
       "      <td>1.489349e+04</td>\n",
       "      <td>65.787737</td>\n",
       "      <td>0.018526</td>\n",
       "      <td>0.012065</td>\n",
       "      <td>1191.606512</td>\n",
       "      <td>0.021918</td>\n",
       "      <td>0.013678</td>\n",
       "      <td>6296.531820</td>\n",
       "      <td>12.287030</td>\n",
       "      <td>0.475698</td>\n",
       "    </tr>\n",
       "    <tr>\n",
       "      <th>min</th>\n",
       "      <td>0.000000</td>\n",
       "      <td>6.100000e+01</td>\n",
       "      <td>72.000000</td>\n",
       "      <td>40.683826</td>\n",
       "      <td>-74.016584</td>\n",
       "      <td>72.000000</td>\n",
       "      <td>40.655400</td>\n",
       "      <td>-74.017134</td>\n",
       "      <td>14529.000000</td>\n",
       "      <td>1885.000000</td>\n",
       "      <td>0.000000</td>\n",
       "    </tr>\n",
       "    <tr>\n",
       "      <th>25%</th>\n",
       "      <td>34999.750000</td>\n",
       "      <td>3.090000e+02</td>\n",
       "      <td>223.000000</td>\n",
       "      <td>40.714067</td>\n",
       "      <td>-74.002472</td>\n",
       "      <td>310.000000</td>\n",
       "      <td>40.714067</td>\n",
       "      <td>-74.000271</td>\n",
       "      <td>19662.750000</td>\n",
       "      <td>1969.000000</td>\n",
       "      <td>1.000000</td>\n",
       "    </tr>\n",
       "    <tr>\n",
       "      <th>50%</th>\n",
       "      <td>69999.500000</td>\n",
       "      <td>4.930000e+02</td>\n",
       "      <td>268.000000</td>\n",
       "      <td>40.724055</td>\n",
       "      <td>-73.993790</td>\n",
       "      <td>411.000000</td>\n",
       "      <td>40.727434</td>\n",
       "      <td>-73.991026</td>\n",
       "      <td>28790.000000</td>\n",
       "      <td>1980.000000</td>\n",
       "      <td>1.000000</td>\n",
       "    </tr>\n",
       "    <tr>\n",
       "      <th>75%</th>\n",
       "      <td>104999.250000</td>\n",
       "      <td>8.150000e+02</td>\n",
       "      <td>306.000000</td>\n",
       "      <td>40.734546</td>\n",
       "      <td>-73.984738</td>\n",
       "      <td>527.000000</td>\n",
       "      <td>40.740259</td>\n",
       "      <td>-73.981918</td>\n",
       "      <td>31605.000000</td>\n",
       "      <td>1988.000000</td>\n",
       "      <td>1.000000</td>\n",
       "    </tr>\n",
       "    <tr>\n",
       "      <th>max</th>\n",
       "      <td>139999.000000</td>\n",
       "      <td>4.421929e+06</td>\n",
       "      <td>336.000000</td>\n",
       "      <td>40.767272</td>\n",
       "      <td>-73.958811</td>\n",
       "      <td>3664.000000</td>\n",
       "      <td>40.814394</td>\n",
       "      <td>-73.914268</td>\n",
       "      <td>33522.000000</td>\n",
       "      <td>2002.000000</td>\n",
       "      <td>2.000000</td>\n",
       "    </tr>\n",
       "  </tbody>\n",
       "</table>\n",
       "</div>"
      ],
      "text/plain": [
       "          Unnamed: 0  tripduration  start_station_id  start_station_latitude  \\\n",
       "count  140000.000000  1.400000e+05     140000.000000           140000.000000   \n",
       "mean    69999.500000  7.593562e+02        253.587986               40.723887   \n",
       "std     40414.663181  1.489349e+04         65.787737                0.018526   \n",
       "min         0.000000  6.100000e+01         72.000000               40.683826   \n",
       "25%     34999.750000  3.090000e+02        223.000000               40.714067   \n",
       "50%     69999.500000  4.930000e+02        268.000000               40.724055   \n",
       "75%    104999.250000  8.150000e+02        306.000000               40.734546   \n",
       "max    139999.000000  4.421929e+06        336.000000               40.767272   \n",
       "\n",
       "       start_station_longitude  end_station_id  end_station_latitude  \\\n",
       "count            140000.000000   140000.000000         140000.000000   \n",
       "mean                -73.992639      981.329214             40.726562   \n",
       "std                   0.012065     1191.606512              0.021918   \n",
       "min                 -74.016584       72.000000             40.655400   \n",
       "25%                 -74.002472      310.000000             40.714067   \n",
       "50%                 -73.993790      411.000000             40.727434   \n",
       "75%                 -73.984738      527.000000             40.740259   \n",
       "max                 -73.958811     3664.000000             40.814394   \n",
       "\n",
       "       end_station_longitude         bikeid     birth_year         gender  \n",
       "count          140000.000000  140000.000000  140000.000000  140000.000000  \n",
       "mean              -73.990720   26172.761371    1978.045979       1.183164  \n",
       "std                 0.013678    6296.531820      12.287030       0.475698  \n",
       "min               -74.017134   14529.000000    1885.000000       0.000000  \n",
       "25%               -74.000271   19662.750000    1969.000000       1.000000  \n",
       "50%               -73.991026   28790.000000    1980.000000       1.000000  \n",
       "75%               -73.981918   31605.000000    1988.000000       1.000000  \n",
       "max               -73.914268   33522.000000    2002.000000       2.000000  "
      ]
     },
     "execution_count": 22,
     "metadata": {},
     "output_type": "execute_result"
    }
   ],
   "source": [
    "print(\"data summary statistics = \\n\")\n",
    "df.describe()"
   ]
  },
  {
   "cell_type": "code",
   "execution_count": 23,
   "id": "fdb67807",
   "metadata": {},
   "outputs": [
    {
     "name": "stdout",
     "output_type": "stream",
     "text": [
      "data correlation = \n",
      "\n"
     ]
    },
    {
     "name": "stderr",
     "output_type": "stream",
     "text": [
      "/var/folders/h4/zwwj_rqd0hl4zwq4c_fx71lr0000gn/T/ipykernel_24937/1174850561.py:2: FutureWarning: The default value of numeric_only in DataFrame.corr is deprecated. In a future version, it will default to False. Select only valid columns or specify the value of numeric_only to silence this warning.\n",
      "  df.corr()\n"
     ]
    },
    {
     "data": {
      "text/html": [
       "<div>\n",
       "<style scoped>\n",
       "    .dataframe tbody tr th:only-of-type {\n",
       "        vertical-align: middle;\n",
       "    }\n",
       "\n",
       "    .dataframe tbody tr th {\n",
       "        vertical-align: top;\n",
       "    }\n",
       "\n",
       "    .dataframe thead th {\n",
       "        text-align: right;\n",
       "    }\n",
       "</style>\n",
       "<table border=\"1\" class=\"dataframe\">\n",
       "  <thead>\n",
       "    <tr style=\"text-align: right;\">\n",
       "      <th></th>\n",
       "      <th>Unnamed: 0</th>\n",
       "      <th>tripduration</th>\n",
       "      <th>start_station_id</th>\n",
       "      <th>start_station_latitude</th>\n",
       "      <th>start_station_longitude</th>\n",
       "      <th>end_station_id</th>\n",
       "      <th>end_station_latitude</th>\n",
       "      <th>end_station_longitude</th>\n",
       "      <th>bikeid</th>\n",
       "      <th>birth_year</th>\n",
       "      <th>gender</th>\n",
       "    </tr>\n",
       "  </thead>\n",
       "  <tbody>\n",
       "    <tr>\n",
       "      <th>Unnamed: 0</th>\n",
       "      <td>1.000000</td>\n",
       "      <td>-0.000788</td>\n",
       "      <td>0.952156</td>\n",
       "      <td>-0.154183</td>\n",
       "      <td>-0.027904</td>\n",
       "      <td>-0.030465</td>\n",
       "      <td>-0.078135</td>\n",
       "      <td>-0.039740</td>\n",
       "      <td>0.004967</td>\n",
       "      <td>0.004042</td>\n",
       "      <td>-0.004958</td>\n",
       "    </tr>\n",
       "    <tr>\n",
       "      <th>tripduration</th>\n",
       "      <td>-0.000788</td>\n",
       "      <td>1.000000</td>\n",
       "      <td>0.000277</td>\n",
       "      <td>-0.001481</td>\n",
       "      <td>0.000214</td>\n",
       "      <td>0.015159</td>\n",
       "      <td>0.003332</td>\n",
       "      <td>0.009095</td>\n",
       "      <td>-0.002943</td>\n",
       "      <td>-0.003214</td>\n",
       "      <td>-0.000076</td>\n",
       "    </tr>\n",
       "    <tr>\n",
       "      <th>start_station_id</th>\n",
       "      <td>0.952156</td>\n",
       "      <td>0.000277</td>\n",
       "      <td>1.000000</td>\n",
       "      <td>-0.162168</td>\n",
       "      <td>0.008575</td>\n",
       "      <td>-0.036530</td>\n",
       "      <td>-0.085929</td>\n",
       "      <td>-0.013410</td>\n",
       "      <td>0.002916</td>\n",
       "      <td>0.006198</td>\n",
       "      <td>-0.001773</td>\n",
       "    </tr>\n",
       "    <tr>\n",
       "      <th>start_station_latitude</th>\n",
       "      <td>-0.154183</td>\n",
       "      <td>-0.001481</td>\n",
       "      <td>-0.162168</td>\n",
       "      <td>1.000000</td>\n",
       "      <td>0.053334</td>\n",
       "      <td>-0.018865</td>\n",
       "      <td>0.754771</td>\n",
       "      <td>-0.001909</td>\n",
       "      <td>-0.008193</td>\n",
       "      <td>-0.015342</td>\n",
       "      <td>-0.030931</td>\n",
       "    </tr>\n",
       "    <tr>\n",
       "      <th>start_station_longitude</th>\n",
       "      <td>-0.027904</td>\n",
       "      <td>0.000214</td>\n",
       "      <td>0.008575</td>\n",
       "      <td>0.053334</td>\n",
       "      <td>1.000000</td>\n",
       "      <td>0.122449</td>\n",
       "      <td>-0.024451</td>\n",
       "      <td>0.509623</td>\n",
       "      <td>-0.015345</td>\n",
       "      <td>0.056696</td>\n",
       "      <td>0.022275</td>\n",
       "    </tr>\n",
       "    <tr>\n",
       "      <th>end_station_id</th>\n",
       "      <td>-0.030465</td>\n",
       "      <td>0.015159</td>\n",
       "      <td>-0.036530</td>\n",
       "      <td>-0.018865</td>\n",
       "      <td>0.122449</td>\n",
       "      <td>1.000000</td>\n",
       "      <td>0.006598</td>\n",
       "      <td>0.208633</td>\n",
       "      <td>0.005639</td>\n",
       "      <td>-0.008327</td>\n",
       "      <td>-0.006207</td>\n",
       "    </tr>\n",
       "    <tr>\n",
       "      <th>end_station_latitude</th>\n",
       "      <td>-0.078135</td>\n",
       "      <td>0.003332</td>\n",
       "      <td>-0.085929</td>\n",
       "      <td>0.754771</td>\n",
       "      <td>-0.024451</td>\n",
       "      <td>0.006598</td>\n",
       "      <td>1.000000</td>\n",
       "      <td>0.090055</td>\n",
       "      <td>0.006606</td>\n",
       "      <td>-0.023911</td>\n",
       "      <td>-0.028915</td>\n",
       "    </tr>\n",
       "    <tr>\n",
       "      <th>end_station_longitude</th>\n",
       "      <td>-0.039740</td>\n",
       "      <td>0.009095</td>\n",
       "      <td>-0.013410</td>\n",
       "      <td>-0.001909</td>\n",
       "      <td>0.509623</td>\n",
       "      <td>0.208633</td>\n",
       "      <td>0.090055</td>\n",
       "      <td>1.000000</td>\n",
       "      <td>0.003041</td>\n",
       "      <td>0.044300</td>\n",
       "      <td>0.012134</td>\n",
       "    </tr>\n",
       "    <tr>\n",
       "      <th>bikeid</th>\n",
       "      <td>0.004967</td>\n",
       "      <td>-0.002943</td>\n",
       "      <td>0.002916</td>\n",
       "      <td>-0.008193</td>\n",
       "      <td>-0.015345</td>\n",
       "      <td>0.005639</td>\n",
       "      <td>0.006606</td>\n",
       "      <td>0.003041</td>\n",
       "      <td>1.000000</td>\n",
       "      <td>0.004570</td>\n",
       "      <td>-0.038003</td>\n",
       "    </tr>\n",
       "    <tr>\n",
       "      <th>birth_year</th>\n",
       "      <td>0.004042</td>\n",
       "      <td>-0.003214</td>\n",
       "      <td>0.006198</td>\n",
       "      <td>-0.015342</td>\n",
       "      <td>0.056696</td>\n",
       "      <td>-0.008327</td>\n",
       "      <td>-0.023911</td>\n",
       "      <td>0.044300</td>\n",
       "      <td>0.004570</td>\n",
       "      <td>1.000000</td>\n",
       "      <td>0.072072</td>\n",
       "    </tr>\n",
       "    <tr>\n",
       "      <th>gender</th>\n",
       "      <td>-0.004958</td>\n",
       "      <td>-0.000076</td>\n",
       "      <td>-0.001773</td>\n",
       "      <td>-0.030931</td>\n",
       "      <td>0.022275</td>\n",
       "      <td>-0.006207</td>\n",
       "      <td>-0.028915</td>\n",
       "      <td>0.012134</td>\n",
       "      <td>-0.038003</td>\n",
       "      <td>0.072072</td>\n",
       "      <td>1.000000</td>\n",
       "    </tr>\n",
       "  </tbody>\n",
       "</table>\n",
       "</div>"
      ],
      "text/plain": [
       "                         Unnamed: 0  tripduration  start_station_id  \\\n",
       "Unnamed: 0                 1.000000     -0.000788          0.952156   \n",
       "tripduration              -0.000788      1.000000          0.000277   \n",
       "start_station_id           0.952156      0.000277          1.000000   \n",
       "start_station_latitude    -0.154183     -0.001481         -0.162168   \n",
       "start_station_longitude   -0.027904      0.000214          0.008575   \n",
       "end_station_id            -0.030465      0.015159         -0.036530   \n",
       "end_station_latitude      -0.078135      0.003332         -0.085929   \n",
       "end_station_longitude     -0.039740      0.009095         -0.013410   \n",
       "bikeid                     0.004967     -0.002943          0.002916   \n",
       "birth_year                 0.004042     -0.003214          0.006198   \n",
       "gender                    -0.004958     -0.000076         -0.001773   \n",
       "\n",
       "                         start_station_latitude  start_station_longitude  \\\n",
       "Unnamed: 0                            -0.154183                -0.027904   \n",
       "tripduration                          -0.001481                 0.000214   \n",
       "start_station_id                      -0.162168                 0.008575   \n",
       "start_station_latitude                 1.000000                 0.053334   \n",
       "start_station_longitude                0.053334                 1.000000   \n",
       "end_station_id                        -0.018865                 0.122449   \n",
       "end_station_latitude                   0.754771                -0.024451   \n",
       "end_station_longitude                 -0.001909                 0.509623   \n",
       "bikeid                                -0.008193                -0.015345   \n",
       "birth_year                            -0.015342                 0.056696   \n",
       "gender                                -0.030931                 0.022275   \n",
       "\n",
       "                         end_station_id  end_station_latitude  \\\n",
       "Unnamed: 0                    -0.030465             -0.078135   \n",
       "tripduration                   0.015159              0.003332   \n",
       "start_station_id              -0.036530             -0.085929   \n",
       "start_station_latitude        -0.018865              0.754771   \n",
       "start_station_longitude        0.122449             -0.024451   \n",
       "end_station_id                 1.000000              0.006598   \n",
       "end_station_latitude           0.006598              1.000000   \n",
       "end_station_longitude          0.208633              0.090055   \n",
       "bikeid                         0.005639              0.006606   \n",
       "birth_year                    -0.008327             -0.023911   \n",
       "gender                        -0.006207             -0.028915   \n",
       "\n",
       "                         end_station_longitude    bikeid  birth_year    gender  \n",
       "Unnamed: 0                           -0.039740  0.004967    0.004042 -0.004958  \n",
       "tripduration                          0.009095 -0.002943   -0.003214 -0.000076  \n",
       "start_station_id                     -0.013410  0.002916    0.006198 -0.001773  \n",
       "start_station_latitude               -0.001909 -0.008193   -0.015342 -0.030931  \n",
       "start_station_longitude               0.509623 -0.015345    0.056696  0.022275  \n",
       "end_station_id                        0.208633  0.005639   -0.008327 -0.006207  \n",
       "end_station_latitude                  0.090055  0.006606   -0.023911 -0.028915  \n",
       "end_station_longitude                 1.000000  0.003041    0.044300  0.012134  \n",
       "bikeid                                0.003041  1.000000    0.004570 -0.038003  \n",
       "birth_year                            0.044300  0.004570    1.000000  0.072072  \n",
       "gender                                0.012134 -0.038003    0.072072  1.000000  "
      ]
     },
     "execution_count": 23,
     "metadata": {},
     "output_type": "execute_result"
    }
   ],
   "source": [
    "print(\"data correlation = \\n\")\n",
    "df.corr()"
   ]
  },
  {
   "cell_type": "code",
   "execution_count": 24,
   "id": "12b5cd11",
   "metadata": {
    "scrolled": true
   },
   "outputs": [
    {
     "name": "stdout",
     "output_type": "stream",
     "text": [
      "available values (classes) for the gender column = [1 0 2]\n",
      " the length data where gender=0: 5367\n",
      " the length data where gender=1: 103623\n",
      " the length data where gender=2: 31010\n"
     ]
    }
   ],
   "source": [
    "\"\"\" Gender \"\"\"\n",
    "print(f\"available values (classes) for the gender column = {df['gender'].unique()}\")\n",
    "print(f\" the length data where gender=0: {len(df[df['gender']==0])}\")\n",
    "print(f\" the length data where gender=1: {len(df[df['gender']==1])}\")\n",
    "print(f\" the length data where gender=2: {len(df[df['gender']==2])}\")"
   ]
  },
  {
   "cell_type": "code",
   "execution_count": 25,
   "id": "fd78fc45",
   "metadata": {},
   "outputs": [
    {
     "name": "stdout",
     "output_type": "stream",
     "text": [
      "available values (classes) for the gender column = ['Subscriber' 'Customer']\n",
      " the length data where usertype=Subscriber: 135838\n",
      " the length data where usertype=Customer: 4162\n"
     ]
    }
   ],
   "source": [
    "\"\"\" usertype \"\"\"\n",
    "print(f\"available values (classes) for the gender column = {df['usertype'].unique()}\")\n",
    "print(f\" the length data where usertype=Subscriber: {len(df[df['usertype']=='Subscriber'])}\")\n",
    "print(f\" the length data where usertype=Customer: {len(df[df['usertype']=='Customer'])}\")"
   ]
  },
  {
   "cell_type": "code",
   "execution_count": null,
   "id": "ca9cbccc",
   "metadata": {},
   "outputs": [],
   "source": []
  },
  {
   "cell_type": "markdown",
   "id": "b0016f99",
   "metadata": {},
   "source": [
    "## Data prep"
   ]
  },
  {
   "cell_type": "markdown",
   "id": "51f3697a",
   "metadata": {},
   "source": [
    "Mayeb add columns showing: 1-the trip time duration,  2-having the 'tripduration' column, compute the speed."
   ]
  },
  {
   "cell_type": "code",
   "execution_count": 26,
   "id": "04a31eb4",
   "metadata": {
    "scrolled": true
   },
   "outputs": [],
   "source": [
    "# Convert a datetime column to datetime data type\n",
    "df['starttime'] = pd.to_datetime(df['starttime'])\n",
    "df['stoptime'] = pd.to_datetime(df['stoptime'])\n",
    "\n",
    "# convert gender and usertype into category\n",
    "df['gender'] = df['gender'].astype('category')\n",
    "df['usertype'] = df['usertype'].astype('category')"
   ]
  },
  {
   "cell_type": "code",
   "execution_count": 27,
   "id": "aa0df83d",
   "metadata": {},
   "outputs": [],
   "source": [
    "# Getting the weekdays\n",
    "df['weekday'] = [d.weekday() for d in df['starttime']] "
   ]
  },
  {
   "cell_type": "code",
   "execution_count": 28,
   "id": "cd752f93",
   "metadata": {},
   "outputs": [
    {
     "data": {
      "text/html": [
       "<div>\n",
       "<style scoped>\n",
       "    .dataframe tbody tr th:only-of-type {\n",
       "        vertical-align: middle;\n",
       "    }\n",
       "\n",
       "    .dataframe tbody tr th {\n",
       "        vertical-align: top;\n",
       "    }\n",
       "\n",
       "    .dataframe thead th {\n",
       "        text-align: right;\n",
       "    }\n",
       "</style>\n",
       "<table border=\"1\" class=\"dataframe\">\n",
       "  <thead>\n",
       "    <tr style=\"text-align: right;\">\n",
       "      <th></th>\n",
       "      <th>Unnamed: 0</th>\n",
       "      <th>tripduration</th>\n",
       "      <th>stoptime</th>\n",
       "      <th>start_station_id</th>\n",
       "      <th>start_station_latitude</th>\n",
       "      <th>start_station_longitude</th>\n",
       "      <th>end_station_id</th>\n",
       "      <th>end_station_latitude</th>\n",
       "      <th>end_station_longitude</th>\n",
       "      <th>bikeid</th>\n",
       "      <th>usertype</th>\n",
       "      <th>birth_year</th>\n",
       "      <th>gender</th>\n",
       "      <th>weekday</th>\n",
       "    </tr>\n",
       "    <tr>\n",
       "      <th>starttime</th>\n",
       "      <th></th>\n",
       "      <th></th>\n",
       "      <th></th>\n",
       "      <th></th>\n",
       "      <th></th>\n",
       "      <th></th>\n",
       "      <th></th>\n",
       "      <th></th>\n",
       "      <th></th>\n",
       "      <th></th>\n",
       "      <th></th>\n",
       "      <th></th>\n",
       "      <th></th>\n",
       "      <th></th>\n",
       "    </tr>\n",
       "  </thead>\n",
       "  <tbody>\n",
       "    <tr>\n",
       "      <th>2018-01-01 13:50:57.434</th>\n",
       "      <td>0</td>\n",
       "      <td>970</td>\n",
       "      <td>2018-01-01 14:07:08.186</td>\n",
       "      <td>72.0</td>\n",
       "      <td>40.767272</td>\n",
       "      <td>-73.993929</td>\n",
       "      <td>505.0</td>\n",
       "      <td>40.749013</td>\n",
       "      <td>-73.988484</td>\n",
       "      <td>31956</td>\n",
       "      <td>Subscriber</td>\n",
       "      <td>1992</td>\n",
       "      <td>1</td>\n",
       "      <td>0</td>\n",
       "    </tr>\n",
       "    <tr>\n",
       "      <th>2018-01-01 15:33:30.182</th>\n",
       "      <td>1</td>\n",
       "      <td>723</td>\n",
       "      <td>2018-01-01 15:45:33.341</td>\n",
       "      <td>72.0</td>\n",
       "      <td>40.767272</td>\n",
       "      <td>-73.993929</td>\n",
       "      <td>3255.0</td>\n",
       "      <td>40.750585</td>\n",
       "      <td>-73.994685</td>\n",
       "      <td>32536</td>\n",
       "      <td>Subscriber</td>\n",
       "      <td>1969</td>\n",
       "      <td>1</td>\n",
       "      <td>0</td>\n",
       "    </tr>\n",
       "    <tr>\n",
       "      <th>2018-01-01 15:39:18.337</th>\n",
       "      <td>2</td>\n",
       "      <td>496</td>\n",
       "      <td>2018-01-01 15:47:35.172</td>\n",
       "      <td>72.0</td>\n",
       "      <td>40.767272</td>\n",
       "      <td>-73.993929</td>\n",
       "      <td>525.0</td>\n",
       "      <td>40.755942</td>\n",
       "      <td>-74.002116</td>\n",
       "      <td>16069</td>\n",
       "      <td>Subscriber</td>\n",
       "      <td>1956</td>\n",
       "      <td>1</td>\n",
       "      <td>0</td>\n",
       "    </tr>\n",
       "    <tr>\n",
       "      <th>2018-01-01 15:40:13.372</th>\n",
       "      <td>3</td>\n",
       "      <td>306</td>\n",
       "      <td>2018-01-01 15:45:20.191</td>\n",
       "      <td>72.0</td>\n",
       "      <td>40.767272</td>\n",
       "      <td>-73.993929</td>\n",
       "      <td>447.0</td>\n",
       "      <td>40.763707</td>\n",
       "      <td>-73.985162</td>\n",
       "      <td>31781</td>\n",
       "      <td>Subscriber</td>\n",
       "      <td>1974</td>\n",
       "      <td>1</td>\n",
       "      <td>0</td>\n",
       "    </tr>\n",
       "    <tr>\n",
       "      <th>2018-01-01 18:14:51.568</th>\n",
       "      <td>4</td>\n",
       "      <td>306</td>\n",
       "      <td>2018-01-01 18:19:57.642</td>\n",
       "      <td>72.0</td>\n",
       "      <td>40.767272</td>\n",
       "      <td>-73.993929</td>\n",
       "      <td>3356.0</td>\n",
       "      <td>40.774667</td>\n",
       "      <td>-73.984706</td>\n",
       "      <td>30319</td>\n",
       "      <td>Subscriber</td>\n",
       "      <td>1992</td>\n",
       "      <td>1</td>\n",
       "      <td>0</td>\n",
       "    </tr>\n",
       "  </tbody>\n",
       "</table>\n",
       "</div>"
      ],
      "text/plain": [
       "                         Unnamed: 0  tripduration                stoptime  \\\n",
       "starttime                                                                   \n",
       "2018-01-01 13:50:57.434           0           970 2018-01-01 14:07:08.186   \n",
       "2018-01-01 15:33:30.182           1           723 2018-01-01 15:45:33.341   \n",
       "2018-01-01 15:39:18.337           2           496 2018-01-01 15:47:35.172   \n",
       "2018-01-01 15:40:13.372           3           306 2018-01-01 15:45:20.191   \n",
       "2018-01-01 18:14:51.568           4           306 2018-01-01 18:19:57.642   \n",
       "\n",
       "                         start_station_id  start_station_latitude  \\\n",
       "starttime                                                           \n",
       "2018-01-01 13:50:57.434              72.0               40.767272   \n",
       "2018-01-01 15:33:30.182              72.0               40.767272   \n",
       "2018-01-01 15:39:18.337              72.0               40.767272   \n",
       "2018-01-01 15:40:13.372              72.0               40.767272   \n",
       "2018-01-01 18:14:51.568              72.0               40.767272   \n",
       "\n",
       "                         start_station_longitude  end_station_id  \\\n",
       "starttime                                                          \n",
       "2018-01-01 13:50:57.434               -73.993929           505.0   \n",
       "2018-01-01 15:33:30.182               -73.993929          3255.0   \n",
       "2018-01-01 15:39:18.337               -73.993929           525.0   \n",
       "2018-01-01 15:40:13.372               -73.993929           447.0   \n",
       "2018-01-01 18:14:51.568               -73.993929          3356.0   \n",
       "\n",
       "                         end_station_latitude  end_station_longitude  bikeid  \\\n",
       "starttime                                                                      \n",
       "2018-01-01 13:50:57.434             40.749013             -73.988484   31956   \n",
       "2018-01-01 15:33:30.182             40.750585             -73.994685   32536   \n",
       "2018-01-01 15:39:18.337             40.755942             -74.002116   16069   \n",
       "2018-01-01 15:40:13.372             40.763707             -73.985162   31781   \n",
       "2018-01-01 18:14:51.568             40.774667             -73.984706   30319   \n",
       "\n",
       "                           usertype  birth_year gender  weekday  \n",
       "starttime                                                        \n",
       "2018-01-01 13:50:57.434  Subscriber        1992      1        0  \n",
       "2018-01-01 15:33:30.182  Subscriber        1969      1        0  \n",
       "2018-01-01 15:39:18.337  Subscriber        1956      1        0  \n",
       "2018-01-01 15:40:13.372  Subscriber        1974      1        0  \n",
       "2018-01-01 18:14:51.568  Subscriber        1992      1        0  "
      ]
     },
     "execution_count": 28,
     "metadata": {},
     "output_type": "execute_result"
    }
   ],
   "source": [
    "df=df.set_index('starttime')\n",
    "df.head()"
   ]
  },
  {
   "cell_type": "code",
   "execution_count": null,
   "id": "9bb84a68",
   "metadata": {},
   "outputs": [],
   "source": []
  },
  {
   "cell_type": "code",
   "execution_count": null,
   "id": "5e01881d",
   "metadata": {},
   "outputs": [],
   "source": []
  },
  {
   "cell_type": "code",
   "execution_count": null,
   "id": "bb99477b",
   "metadata": {},
   "outputs": [],
   "source": []
  },
  {
   "cell_type": "markdown",
   "id": "a32a96ed",
   "metadata": {},
   "source": [
    "# Data visualization"
   ]
  },
  {
   "cell_type": "markdown",
   "id": "d876b087",
   "metadata": {},
   "source": [
    "### Gender"
   ]
  },
  {
   "cell_type": "code",
   "execution_count": 29,
   "id": "27eb77b1",
   "metadata": {
    "scrolled": false
   },
   "outputs": [
    {
     "data": {
      "image/png": "[encoded data removed]",
      "text/plain": [
       "<Figure size 1500x800 with 1 Axes>"
      ]
     },
     "metadata": {},
     "output_type": "display_data"
    }
   ],
   "source": [
    "# Create a bar plot for the \"gender\" column\n",
    "\n",
    "df['gender'].value_counts().plot(kind='bar')\n",
    "plt.xlabel('Gender')\n",
    "plt.ylabel('Count')\n",
    "plt.title('Gender Distribution')\n",
    "plt.show()"
   ]
  },
  {
   "cell_type": "code",
   "execution_count": 30,
   "id": "901900a9",
   "metadata": {
    "scrolled": false
   },
   "outputs": [
    {
     "data": {
      "image/png": "[encoded data removed]",
      "text/plain": [
       "<Figure size 1500x800 with 1 Axes>"
      ]
     },
     "metadata": {},
     "output_type": "display_data"
    }
   ],
   "source": [
    "# Create a pie chart for the \"gender\" column\n",
    "\n",
    "gender_counts = df['gender'].value_counts()\n",
    "plt.pie(gender_counts, labels=gender_counts.index, autopct='%1.1f%%')\n",
    "plt.title('Gender Distribution')\n",
    "plt.axis('equal')  # Equal aspect ratio ensures that pie is drawn as a circle.\n",
    "plt.show()"
   ]
  },
  {
   "cell_type": "markdown",
   "id": "26a93119",
   "metadata": {},
   "source": [
    "### usertype"
   ]
  },
  {
   "cell_type": "code",
   "execution_count": 31,
   "id": "98abbfea",
   "metadata": {},
   "outputs": [
    {
     "data": {
      "image/png": "[encoded data removed]",
      "text/plain": [
       "<Figure size 1500x800 with 1 Axes>"
      ]
     },
     "metadata": {},
     "output_type": "display_data"
    }
   ],
   "source": [
    "# Create a bar plot for the \"usertype\" column\n",
    "\n",
    "df['usertype'].value_counts().plot(kind='bar')\n",
    "plt.xlabel('user_type')\n",
    "plt.ylabel('Count')\n",
    "plt.title('user_type Distribution')\n",
    "plt.show()"
   ]
  },
  {
   "cell_type": "markdown",
   "id": "77cc97ca",
   "metadata": {},
   "source": [
    "### bike id"
   ]
  },
  {
   "cell_type": "code",
   "execution_count": 32,
   "id": "c32c0217",
   "metadata": {
    "scrolled": false
   },
   "outputs": [
    {
     "data": {
      "image/png": "[encoded data removed]",
      "text/plain": [
       "<Figure size 600x300 with 1 Axes>"
      ]
     },
     "metadata": {},
     "output_type": "display_data"
    }
   ],
   "source": [
    "# Create a histogram for the \"bikeid\" column\n",
    "\n",
    "plt.figure(figsize=(6, 3))\n",
    "plt.hist(df['bikeid'], bins=50)  # Adjust the number of bins as needed\n",
    "plt.xlabel('Bike ID')\n",
    "plt.ylabel('Frequency')\n",
    "plt.title('Bike ID Distribution (Histogram)')\n",
    "plt.show()"
   ]
  },
  {
   "cell_type": "markdown",
   "id": "d3a9fea9",
   "metadata": {},
   "source": [
    "### birth_year"
   ]
  },
  {
   "cell_type": "code",
   "execution_count": 33,
   "id": "e8e8c5ad",
   "metadata": {},
   "outputs": [
    {
     "data": {
      "image/png": "[encoded data removed]",
      "text/plain": [
       "<Figure size 600x300 with 1 Axes>"
      ]
     },
     "metadata": {},
     "output_type": "display_data"
    }
   ],
   "source": [
    "# Create a histogram for the \"birth_year\" column\n",
    "\n",
    "plt.figure(figsize=(6, 3))\n",
    "plt.hist(df['birth_year'], bins=50)  # Adjust the number of bins as needed\n",
    "plt.xlabel('birth Year')\n",
    "plt.ylabel('Frequency')\n",
    "plt.title('birth Year Distribution (Histogram)')\n",
    "plt.show()"
   ]
  },
  {
   "cell_type": "code",
   "execution_count": null,
   "id": "96d31831",
   "metadata": {},
   "outputs": [],
   "source": []
  },
  {
   "cell_type": "markdown",
   "id": "a42cf2f5",
   "metadata": {},
   "source": [
    "# Data analysis "
   ]
  },
  {
   "cell_type": "markdown",
   "id": "8f83b6b6",
   "metadata": {},
   "source": [
    "## group by starttime"
   ]
  },
  {
   "cell_type": "markdown",
   "id": "0e20bd04",
   "metadata": {},
   "source": [
    "group by >> get the number of trips "
   ]
  },
  {
   "cell_type": "code",
   "execution_count": null,
   "id": "a3f08769",
   "metadata": {},
   "outputs": [],
   "source": []
  },
  {
   "cell_type": "markdown",
   "id": "048db445",
   "metadata": {},
   "source": [
    "# Prediction Challenge"
   ]
  },
  {
   "cell_type": "code",
   "execution_count": null,
   "id": "e1af1be0",
   "metadata": {},
   "outputs": [],
   "source": []
  },
  {
   "cell_type": "markdown",
   "id": "08ea31bd",
   "metadata": {},
   "source": [
    "# Exploratory Component"
   ]
  },
  {
   "cell_type": "code",
   "execution_count": null,
   "id": "371d4b27",
   "metadata": {},
   "outputs": [],
   "source": []
  },
  {
   "cell_type": "markdown",
   "id": "bdc0b959",
   "metadata": {},
   "source": [
    "# Conclusions"
   ]
  },
  {
   "cell_type": "code",
   "execution_count": null,
   "id": "63b30428",
   "metadata": {},
   "outputs": [],
   "source": []
  }
 ],
 "metadata": {
  "hide_input": false,
  "kernelspec": {
   "display_name": "Python 3 (ipykernel)",
   "language": "python",
   "name": "python3"
  },
  "language_info": {
   "codemirror_mode": {
    "name": "ipython",
    "version": 3
   },
   "file_extension": ".py",
   "mimetype": "text/x-python",
   "name": "python",
   "nbconvert_exporter": "python",
   "pygments_lexer": "ipython3",
   "version": "3.11.4"
  },
  "toc": {
   "base_numbering": 1,
   "nav_menu": {},
   "number_sections": true,
   "sideBar": true,
   "skip_h1_title": false,
   "title_cell": "Table of Contents",
   "title_sidebar": "Contents",
   "toc_cell": true,
   "toc_position": {
    "height": "calc(100% - 180px)",
    "left": "10px",
    "top": "150px",
    "width": "230.188px"
   },
   "toc_section_display": true,
   "toc_window_display": false
  }
 },
 "nbformat": 4,
 "nbformat_minor": 5
}
